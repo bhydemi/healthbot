{
 "cells": [
  {
   "cell_type": "markdown",
   "metadata": {},
   "source": [
    "# HealthBot: AI-Powered Patient Education System\n",
    "\n",
    "This notebook demonstrates the HealthBot prototype - an AI-powered system that provides personalized health education to patients.\n",
    "\n",
    "## Features:\n",
    "- Interactive health topic selection\n",
    "- Web search using Tavily for reliable medical information\n",
    "- Patient-friendly summarization\n",
    "- Comprehension quiz with feedback\n",
    "- Session management with topic restart capability\n",
    "\n",
    "## Setup Requirements:\n",
    "1. Create a `config.env` file with your API keys\n",
    "2. Get a free Tavily API key from: https://app.tavily.com/home\n",
    "3. Get an OpenAI API key from: https://platform.openai.com/api-keys"
   ]
  },
  {
   "cell_type": "code",
   "execution_count": null,
   "metadata": {},
   "outputs": [],
   "source": "# Load environment variables and verify API keys\nfrom dotenv import load_dotenv\nimport os\n\nload_dotenv('config.env')\n\n# Verify API keys are set\nopenai_key = os.getenv('OPENAI_API_KEY')\ntavily_key = os.getenv('TAVILY_API_KEY')\n\nif not openai_key or openai_key == \"your-openai-api-key-here\":\n    print(\"ERROR: Please set your OPENAI_API_KEY in config.env\")\nelif not tavily_key or tavily_key == \"your-tavily-api-key-here\":\n    print(\"ERROR: Please set your TAVILY_API_KEY in config.env\")\nelse:\n    print(\"API keys configured successfully!\")\n    print(\"Ready to start HealthBot!\")"
  },
  {
   "cell_type": "code",
   "execution_count": null,
   "metadata": {},
   "outputs": [],
   "source": "# Import and initialize HealthBot LangGraph Workflow (Modular Implementation)\nfrom healthbot_modules.workflow import HealthBotWorkflow\n\n# Create HealthBot workflow instance\nprint(\"Initializing modular HealthBot LangGraph Workflow...\")\nworkflow = HealthBotWorkflow()\nprint(\"HealthBot workflow ready with state management!\")"
  },
  {
   "cell_type": "code",
   "execution_count": null,
   "metadata": {},
   "outputs": [],
   "source": "# Run HealthBot - Interactive Patient Education Session\n# This starts the complete LangGraph-style workflow with state management\n\nworkflow.execute_workflow()"
  },
  {
   "cell_type": "markdown",
   "metadata": {},
   "source": [
    "## How HealthBot Works:\n",
    "\n",
    "1. **Topic Selection**: Patient enters a health topic they want to learn about\n",
    "2. **Information Gathering**: HealthBot searches trusted medical sources using Tavily\n",
    "3. **Summarization**: AI creates patient-friendly explanations from medical sources\n",
    "4. **Education**: Patient reads the comprehensive health information\n",
    "5. **Assessment**: HealthBot generates a comprehension quiz question\n",
    "6. **Feedback**: AI evaluates the answer and provides educational feedback\n",
    "7. **Continuation**: Option to learn about another topic or exit\n",
    "\n",
    "## Trusted Medical Sources:\n",
    "- Mayo Clinic (mayoclinic.org)\n",
    "- National Institutes of Health (nih.gov)\n",
    "- Centers for Disease Control (cdc.gov)\n",
    "- WebMD (webmd.com)\n",
    "- Healthline (healthline.com)\n",
    "- MedlinePlus (medlineplus.gov)\n",
    "\n",
    "## Privacy & Safety:\n",
    "- No personal health information is stored\n",
    "- Session data is reset between topics\n",
    "- Information is for educational purposes only\n",
    "- Always consult healthcare professionals for medical decisions"
   ]
  }
 ],
 "metadata": {
  "kernelspec": {
   "display_name": "Python 3",
   "language": "python",
   "name": "python3"
  },
  "language_info": {
   "codemirror_mode": {
    "name": "ipython",
    "version": 3
   },
   "file_extension": ".py",
   "mimetype": "text/x-python",
   "name": "python",
   "nbconvert_exporter": "python",
   "pygments_lexer": "ipython3",
   "version": "3.8.8"
  }
 },
 "nbformat": 4,
 "nbformat_minor": 4
}